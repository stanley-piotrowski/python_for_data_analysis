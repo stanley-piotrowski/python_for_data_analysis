{
 "cells": [
  {
   "cell_type": "markdown",
   "id": "025a3ce3",
   "metadata": {},
   "source": [
    "### Python language basics"
   ]
  },
  {
   "cell_type": "code",
   "execution_count": 1,
   "id": "4484a83d",
   "metadata": {},
   "outputs": [],
   "source": [
    "# Setup\n",
    "import numpy as np\n",
    "import matplotlib.pyplot as plt"
   ]
  },
  {
   "cell_type": "code",
   "execution_count": 8,
   "id": "e589ecec",
   "metadata": {},
   "outputs": [
    {
     "name": "stdout",
     "output_type": "stream",
     "text": [
      "0: 0.6575649077085791\n",
      "1: 0.8656501168976646\n",
      "2: 0.9332506482166292\n",
      "3: 0.8107317384686048\n",
      "4: 0.5972719401226743\n",
      "5: 0.13226613292334322\n",
      "6: 0.2058091664725592\n"
     ]
    }
   ],
   "source": [
    "# Basic examples\n",
    "# Random number generators and store in a dictionary\n",
    "data = {}\n",
    "for i in range(7):\n",
    "    data[i] = np.random.rand()\n",
    "\n",
    "for key, val in data.items():\n",
    "    print(f'{key}: {val}')"
   ]
  },
  {
   "cell_type": "code",
   "execution_count": 9,
   "id": "ea44ed2b",
   "metadata": {},
   "outputs": [],
   "source": [
    "# Object introspection with '?'\n",
    "b = [1, 2, 3]\n",
    "b?"
   ]
  },
  {
   "cell_type": "code",
   "execution_count": 10,
   "id": "f097a79a",
   "metadata": {},
   "outputs": [],
   "source": [
    "# Can also be used with functions\n",
    "np.random.rand??"
   ]
  },
  {
   "cell_type": "code",
   "execution_count": 15,
   "id": "f7193c6e",
   "metadata": {},
   "outputs": [],
   "source": [
    "# Use the '?' and the wildcard to search namespaces\n",
    "np.*?"
   ]
  },
  {
   "cell_type": "code",
   "execution_count": 17,
   "id": "d24e4099",
   "metadata": {},
   "outputs": [
    {
     "name": "stdout",
     "output_type": "stream",
     "text": [
      "64.7 µs ± 1.2 µs per loop (mean ± std. dev. of 7 runs, 10,000 loops each)\n"
     ]
    }
   ],
   "source": [
    "# Track the time of any Python statement with the %timeit magic function\n",
    "a = np.random.randn(100, 100) # create a 100x100 array\n",
    "%timeit np.dot(a, a)"
   ]
  },
  {
   "cell_type": "code",
   "execution_count": 18,
   "id": "95f608c2",
   "metadata": {},
   "outputs": [
    {
     "data": {
      "text/plain": [
       "'/Users/spiotrowski/Desktop/Code/Python/python_for_data_analysis'"
      ]
     },
     "execution_count": 18,
     "metadata": {},
     "output_type": "execute_result"
    }
   ],
   "source": [
    "# Other helpful magic functions are listed in Table 2-2\n",
    "%pwd"
   ]
  },
  {
   "cell_type": "code",
   "execution_count": 20,
   "id": "285869e3",
   "metadata": {},
   "outputs": [
    {
     "data": {
      "text/plain": [
       "[<matplotlib.lines.Line2D at 0x7f9258522b80>]"
      ]
     },
     "execution_count": 20,
     "metadata": {},
     "output_type": "execute_result"
    },
    {
     "data": {
      "image/png": "[encoded data removed]",
      "text/plain": [
       "<Figure size 432x288 with 1 Axes>"
      ]
     },
     "metadata": {
      "needs_background": "light"
     },
     "output_type": "display_data"
    }
   ],
   "source": [
    "# Running matplotlib in line in the notebook\n",
    "%matplotlib inline\n",
    "plt.plot(np.random.randn(50).cumsum())"
   ]
  },
  {
   "cell_type": "markdown",
   "id": "09d3e5b4",
   "metadata": {},
   "source": [
    "## Language semantics"
   ]
  },
  {
   "cell_type": "markdown",
   "id": "b5a94ce8",
   "metadata": {},
   "source": [
    "Recall, methods are functions attached to objects that modify the behavior of the object by accessing the internal contents. "
   ]
  },
  {
   "cell_type": "code",
   "execution_count": 5,
   "id": "4f9ce993",
   "metadata": {},
   "outputs": [
    {
     "name": "stdout",
     "output_type": "stream",
     "text": [
      "a is [1, 2, 3]\n",
      "b is [1, 2, 3]\n",
      "\n",
      "Is a == b?:\n",
      "True\n",
      "\n",
      "a is now [1, 2, 3, 4]\n",
      "b is now [1, 2, 3, 4]\n",
      "\n",
      "Memory location of a is 140208013434496\n",
      "Memory location of b is 140208013434496\n",
      "\n"
     ]
    }
   ],
   "source": [
    "# Creating two references to the same data-- not copying!\n",
    "a = [1, 2, 3]\n",
    "b = a\n",
    "print(f'a is {a}')\n",
    "print(f'b is {b}\\n')\n",
    "\n",
    "print(f'Is a == b?:\\n{a is b}\\n')\n",
    "\n",
    "a.append(4)\n",
    "print(f'a is now {a}')\n",
    "print(f'b is now {b}\\n')\n",
    "\n",
    "# Get the memory locations that both names are referencing\n",
    "print(f'Memory location of a is {id(a)}')\n",
    "print(f'Memory location of b is {id(b)}\\n')\n",
    "\n",
    "# This shows that indeed, both are referencing the same data in memory"
   ]
  },
  {
   "cell_type": "code",
   "execution_count": 8,
   "id": "2e41c54c",
   "metadata": {},
   "outputs": [
    {
     "name": "stdout",
     "output_type": "stream",
     "text": [
      "Is a == b?\n",
      "False\n",
      "\n",
      "Memory location of a is 140208013434496\n",
      "Memory location of b is 140208018736128\n",
      "\n"
     ]
    }
   ],
   "source": [
    "# Now make an explicit copy and check that they are referencing different addreses\n",
    "b = a.copy()\n",
    "print(f'Is a == b?\\n{a is b}\\n')\n",
    "\n",
    "print(f'Memory location of a is {id(a)}')\n",
    "print(f'Memory location of b is {id(b)}\\n')"
   ]
  },
  {
   "cell_type": "code",
   "execution_count": 14,
   "id": "64e4a8a2",
   "metadata": {},
   "outputs": [
    {
     "name": "stdout",
     "output_type": "stream",
     "text": [
      "Is 5 an integer or a float?\n",
      "True\n",
      "\n",
      "What about a string?\n",
      "False\n",
      "\n"
     ]
    }
   ],
   "source": [
    "# Check if object is of a particular type \n",
    "a = 5; b = 5\n",
    "print(f'Is {a} an integer or a float?\\n{isinstance(a, (int, float))}\\n')\n",
    "print(f'What about a string?\\n{isinstance(a, (str))}\\n')"
   ]
  },
  {
   "cell_type": "markdown",
   "id": "507496df",
   "metadata": {},
   "source": [
    "## Data types\n"
   ]
  },
  {
   "cell_type": "code",
   "execution_count": 19,
   "id": "f9863926",
   "metadata": {},
   "outputs": [
    {
     "name": "stdout",
     "output_type": "stream",
     "text": [
      "Modified string:\n",
      "pyth\n"
     ]
    }
   ],
   "source": [
    "# Although strings are immutable, they can be typecasted to a list \n",
    "# Lists are mutable, so the content can be modified, then joined back to a string\n",
    "s = 'python'\n",
    "s_list = list(s)[:4]\n",
    "print(f'Modified string:\\n{\"\".join(s_list)}')\n"
   ]
  },
  {
   "cell_type": "code",
   "execution_count": 27,
   "id": "2aac93b0",
   "metadata": {},
   "outputs": [],
   "source": [
    "# None is a special data type-- if a function doesn't return a value, it returns None\n",
    "# In previous books, we could include optional arguments using the idiom 'optional_argument=\"\"'\n",
    "# We'd then check 'if optional_argument:'\n",
    "# Instead, we could use the following with 'None'\n",
    "def add_and_maybe_multiply(x, y, z=None):\n",
    "    \"\"\"Add or multiply numbers.\"\"\"\n",
    "    result = x + y\n",
    "    if z is not None:\n",
    "        result *= z\n",
    "        \n",
    "    return result"
   ]
  },
  {
   "cell_type": "code",
   "execution_count": 30,
   "id": "42f21d26",
   "metadata": {},
   "outputs": [
    {
     "data": {
      "text/plain": [
       "8"
      ]
     },
     "execution_count": 30,
     "metadata": {},
     "output_type": "execute_result"
    }
   ],
   "source": [
    "# Test function\n",
    "add_and_maybe_multiply(4, 4) # should equal 8"
   ]
  },
  {
   "cell_type": "code",
   "execution_count": 31,
   "id": "2de5c08e",
   "metadata": {},
   "outputs": [
    {
     "data": {
      "text/plain": [
       "16"
      ]
     },
     "execution_count": 31,
     "metadata": {},
     "output_type": "execute_result"
    }
   ],
   "source": [
    "add_and_maybe_multiply(4, 4, 2) # should equal 16"
   ]
  },
  {
   "cell_type": "markdown",
   "id": "7a53d5e8",
   "metadata": {},
   "source": [
    "## Control flow"
   ]
  },
  {
   "cell_type": "code",
   "execution_count": 32,
   "id": "2d9be21d",
   "metadata": {},
   "outputs": [
    {
     "name": "stdout",
     "output_type": "stream",
     "text": [
      "Total count excluding NoneType:\n",
      "12\n"
     ]
    }
   ],
   "source": [
    "# Continue statement to be used in loops\n",
    "sequence = [1, 2, None, 4, 5, None]\n",
    "total = 0\n",
    "for val in sequence:\n",
    "    if val is None:\n",
    "        continue\n",
    "    else:\n",
    "        total += val\n",
    "\n",
    "print(f'Total count excluding NoneType:\\n{total}')"
   ]
  },
  {
   "cell_type": "code",
   "execution_count": 37,
   "id": "cc70a829",
   "metadata": {},
   "outputs": [
    {
     "name": "stdout",
     "output_type": "stream",
     "text": [
      "A: 1, B: 2, C: 3\n",
      "A: 4, B: 5, C: 6\n",
      "A: 7, B: 8, C: 9\n"
     ]
    }
   ],
   "source": [
    "# Tuple or list unpacking can be useful when the elements inside an interator are lists or tuples\n",
    "my_list = [[1, 2, 3], \n",
    "          [4, 5, 6], \n",
    "          [7, 8, 9]]\n",
    "\n",
    "for a, b, c in my_list:\n",
    "    print(f'A: {a}, B: {b}, C: {c}')"
   ]
  },
  {
   "cell_type": "code",
   "execution_count": 38,
   "id": "b0959ac8",
   "metadata": {},
   "outputs": [
    {
     "data": {
      "text/plain": [
       "'Non-negative'"
      ]
     },
     "execution_count": 38,
     "metadata": {},
     "output_type": "execute_result"
    }
   ],
   "source": [
    "# Ternary operators can condense if-else blocks into a single line\n",
    "x = 25\n",
    "'Non-negative' if x > 5 else 'negative'"
   ]
  },
  {
   "cell_type": "code",
   "execution_count": null,
   "id": "9d203d99",
   "metadata": {},
   "outputs": [],
   "source": []
  }
 ],
 "metadata": {
  "kernelspec": {
   "display_name": "Python 3 (ipykernel)",
   "language": "python",
   "name": "python3"
  },
  "language_info": {
   "codemirror_mode": {
    "name": "ipython",
    "version": 3
   },
   "file_extension": ".py",
   "mimetype": "text/x-python",
   "name": "python",
   "nbconvert_exporter": "python",
   "pygments_lexer": "ipython3",
   "version": "3.9.7"
  }
 },
 "nbformat": 4,
 "nbformat_minor": 5
}
