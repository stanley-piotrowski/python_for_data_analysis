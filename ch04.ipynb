{
 "cells": [
  {
   "cell_type": "markdown",
   "id": "a7f6d4d6",
   "metadata": {},
   "source": [
    "# NumPy basics-- arrays and vectorized computation"
   ]
  },
  {
   "cell_type": "markdown",
   "id": "1df0af92",
   "metadata": {},
   "source": [
    "This chapter focuses on NumPy (numerical Python) and its n-dimensional arrays.  Like R, many NumPy functions are vectorized, so there's no need to write an explicit for loop. Also like base R libraries and many others written more recently (e.g., purrr), most of the heavy lifting is done by code written in C with NumPy wrappers.  In fact, the NumPy arrays are stored in contiguous blocks of memory and like the apply and map functions in R, the type checking is performed by the wrapper before passing off to the C code. "
   ]
  },
  {
   "cell_type": "code",
   "execution_count": 3,
   "id": "79d44e1c",
   "metadata": {},
   "outputs": [],
   "source": [
    "# Setup\n",
    "import numpy as np"
   ]
  },
  {
   "cell_type": "markdown",
   "id": "3ce75e7d",
   "metadata": {},
   "source": [
    "## The NumPy ndarray"
   ]
  },
  {
   "cell_type": "code",
   "execution_count": 30,
   "id": "9ed5e27f",
   "metadata": {},
   "outputs": [
    {
     "data": {
      "text/plain": [
       "array([[ 0.39479564,  1.43750826,  0.16596883],\n",
       "       [ 0.7328657 ,  0.55998296, -0.92943363]])"
      ]
     },
     "execution_count": 30,
     "metadata": {},
     "output_type": "execute_result"
    }
   ],
   "source": [
    "# Generate a small array of random data\n",
    "# Note-- np.random.randn returns a sample from the standard normal distribution\n",
    "# Cols, then rows, are defined in the 2D case\n",
    "data = np.random.randn(2, 3)\n",
    "data"
   ]
  },
  {
   "cell_type": "code",
   "execution_count": 31,
   "id": "9eeb79b3",
   "metadata": {},
   "outputs": [
    {
     "data": {
      "text/plain": [
       "array([[ 3.94795636, 14.3750826 ,  1.65968828],\n",
       "       [ 7.32865703,  5.59982956, -9.29433631]])"
      ]
     },
     "execution_count": 31,
     "metadata": {},
     "output_type": "execute_result"
    }
   ],
   "source": [
    "# Performing different operations without loops\n",
    "data * 10"
   ]
  },
  {
   "cell_type": "code",
   "execution_count": 34,
   "id": "43f17184",
   "metadata": {},
   "outputs": [
    {
     "name": "stdout",
     "output_type": "stream",
     "text": [
      "Dimensions of the array:\n",
      "(2, 3)\n",
      "\n",
      "Data type in the array:\n",
      "float64\n",
      "\n"
     ]
    }
   ],
   "source": [
    "# NumPy arrays are very similar to R matrices in that they are containers for homogenous data\n",
    "# Look at the different attributes for ndarrays\n",
    "print(f'Dimensions of the array:\\n{data.shape}\\n')\n",
    "print(f'Data type in the array:\\n{data.dtype}\\n')"
   ]
  },
  {
   "cell_type": "markdown",
   "id": "955dfcc0",
   "metadata": {},
   "source": [
    "### Creating ndarrays"
   ]
  },
  {
   "cell_type": "code",
   "execution_count": 35,
   "id": "d38a9dd7",
   "metadata": {},
   "outputs": [
    {
     "data": {
      "text/plain": [
       "array([6. , 7.5, 8. , 0. , 1. ])"
      ]
     },
     "execution_count": 35,
     "metadata": {},
     "output_type": "execute_result"
    }
   ],
   "source": [
    "# Create a simple array from a list of numbers\n",
    "nums = [6, 7.5, 8, 0, 1]\n",
    "arr1 = np.array(nums)\n",
    "arr1"
   ]
  },
  {
   "cell_type": "code",
   "execution_count": 40,
   "id": "c1ee63e8",
   "metadata": {},
   "outputs": [
    {
     "name": "stdout",
     "output_type": "stream",
     "text": [
      "Array shape:\n",
      "(5,)\n",
      "\n",
      "# of array dimensions:\n",
      "1\n",
      "\n"
     ]
    }
   ],
   "source": [
    "# Look at the different shape and dimension attributes\n",
    "print(f'Array shape:\\n{arr1.shape}\\n')\n",
    "print(f'# of array dimensions:\\n{arr1.ndim}\\n')"
   ]
  },
  {
   "cell_type": "code",
   "execution_count": 46,
   "id": "136def62",
   "metadata": {},
   "outputs": [
    {
     "data": {
      "text/plain": [
       "array([[0., 0., 0., 0., 0., 0., 0., 0., 0., 0.],\n",
       "       [0., 0., 0., 0., 0., 0., 0., 0., 0., 0.],\n",
       "       [0., 0., 0., 0., 0., 0., 0., 0., 0., 0.],\n",
       "       [0., 0., 0., 0., 0., 0., 0., 0., 0., 0.],\n",
       "       [0., 0., 0., 0., 0., 0., 0., 0., 0., 0.],\n",
       "       [0., 0., 0., 0., 0., 0., 0., 0., 0., 0.],\n",
       "       [0., 0., 0., 0., 0., 0., 0., 0., 0., 0.],\n",
       "       [0., 0., 0., 0., 0., 0., 0., 0., 0., 0.],\n",
       "       [0., 0., 0., 0., 0., 0., 0., 0., 0., 0.],\n",
       "       [0., 0., 0., 0., 0., 0., 0., 0., 0., 0.]])"
      ]
     },
     "execution_count": 46,
     "metadata": {},
     "output_type": "execute_result"
    }
   ],
   "source": [
    "# Create an array of 0's\n",
    "zero_arr = np.zeros((10, 10))\n",
    "zero_arr"
   ]
  },
  {
   "cell_type": "markdown",
   "id": "08e5006e",
   "metadata": {},
   "source": [
    "### Data types for ndarrays"
   ]
  },
  {
   "cell_type": "markdown",
   "id": "6afd7dd7",
   "metadata": {},
   "source": [
    "The data type for most NumPy operations is a float, but there are many other options for fine-tune control of how data are interpreted."
   ]
  },
  {
   "cell_type": "code",
   "execution_count": 51,
   "id": "8b5fe9fe",
   "metadata": {},
   "outputs": [],
   "source": [
    "# Create a new array of integers\n",
    "arr = np.array([1, 2, 3, 4], dtype = np.int32)"
   ]
  },
  {
   "cell_type": "code",
   "execution_count": 52,
   "id": "e706021f",
   "metadata": {},
   "outputs": [
    {
     "data": {
      "text/plain": [
       "dtype('int32')"
      ]
     },
     "execution_count": 52,
     "metadata": {},
     "output_type": "execute_result"
    }
   ],
   "source": [
    "arr.dtype"
   ]
  },
  {
   "cell_type": "code",
   "execution_count": 54,
   "id": "e0379ec5",
   "metadata": {},
   "outputs": [
    {
     "data": {
      "text/plain": [
       "dtype('float64')"
      ]
     },
     "execution_count": 54,
     "metadata": {},
     "output_type": "execute_result"
    }
   ],
   "source": [
    "# Create with float 64\n",
    "arr = np.array([1, 2, 3, 4], dtype = np.float64)\n",
    "arr.dtype"
   ]
  },
  {
   "cell_type": "code",
   "execution_count": 55,
   "id": "6ced7549",
   "metadata": {},
   "outputs": [
    {
     "data": {
      "text/plain": [
       "array([1, 2, 3, 4], dtype=int32)"
      ]
     },
     "execution_count": 55,
     "metadata": {},
     "output_type": "execute_result"
    }
   ],
   "source": [
    "# Case back to integer 32\n",
    "arr.astype(np.int32)"
   ]
  },
  {
   "cell_type": "markdown",
   "id": "e495c3e4",
   "metadata": {},
   "source": [
    "### Arithmetic with NumPy arrays"
   ]
  },
  {
   "cell_type": "markdown",
   "id": "37d2ddcf",
   "metadata": {},
   "source": [
    "Like R, NumPy operations are vectorized-- multipling an array by a constant (e.g., 2) will multiply each element of the array by 2, etc."
   ]
  },
  {
   "cell_type": "markdown",
   "id": "d1481ff9",
   "metadata": {},
   "source": [
    "### Basic indexing and slicing"
   ]
  },
  {
   "cell_type": "code",
   "execution_count": null,
   "id": "89d41701",
   "metadata": {},
   "outputs": [],
   "source": []
  }
 ],
 "metadata": {
  "kernelspec": {
   "display_name": "Python 3 (ipykernel)",
   "language": "python",
   "name": "python3"
  },
  "language_info": {
   "codemirror_mode": {
    "name": "ipython",
    "version": 3
   },
   "file_extension": ".py",
   "mimetype": "text/x-python",
   "name": "python",
   "nbconvert_exporter": "python",
   "pygments_lexer": "ipython3",
   "version": "3.9.7"
  }
 },
 "nbformat": 4,
 "nbformat_minor": 5
}
