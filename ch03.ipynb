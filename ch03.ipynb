{
 "cells": [
  {
   "cell_type": "markdown",
   "id": "8fb7b2d5",
   "metadata": {},
   "source": [
    "# Built-in data structures, functions, and files"
   ]
  },
  {
   "cell_type": "code",
   "execution_count": 93,
   "id": "944711db",
   "metadata": {},
   "outputs": [],
   "source": [
    "# Setup\n",
    "import pandas as pd\n",
    "import numpy as np\n",
    "import re # reguar expressions\n",
    "import requests"
   ]
  },
  {
   "cell_type": "markdown",
   "id": "556d5986",
   "metadata": {},
   "source": [
    "### Tuples"
   ]
  },
  {
   "cell_type": "code",
   "execution_count": 3,
   "id": "58dd8a81",
   "metadata": {},
   "outputs": [
    {
     "name": "stdout",
     "output_type": "stream",
     "text": [
      "Are all of these tuples equivalent?\n",
      "True\n"
     ]
    }
   ],
   "source": [
    "# Tuples are immutable and can be created in a number of different ways\n",
    "my_tuple = 4, 5, 6\n",
    "another_tuple = (4, 5, 6)\n",
    "yet_another_tuple = tuple([4, 5, 6])\n",
    "\n",
    "print(f'Are all of these tuples equivalent?\\n{my_tuple == another_tuple == yet_another_tuple}')"
   ]
  },
  {
   "cell_type": "code",
   "execution_count": 7,
   "id": "1b4493cc",
   "metadata": {},
   "outputs": [
    {
     "name": "stdout",
     "output_type": "stream",
     "text": [
      "Sorry, you can't do that.  Tuples are immutable!\n"
     ]
    }
   ],
   "source": [
    "# As noted, the tuple data structure itself is immutable, although the contents may be mutable\n",
    "try: \n",
    "    tuple[0] = 1\n",
    "except TypeError:\n",
    "    print(\"Sorry, you can't do that.  Tuples are immutable!\")"
   ]
  },
  {
   "cell_type": "code",
   "execution_count": 9,
   "id": "f9ec79db",
   "metadata": {},
   "outputs": [
    {
     "name": "stdout",
     "output_type": "stream",
     "text": [
      "Value of a is 4\n",
      "Value of b is 5\n",
      "Value of c is 6\n"
     ]
    }
   ],
   "source": [
    "# One slick Python feature is tuple unpacking-- give an expression and Python will try to unpack the data in the tuple into the variables provided\n",
    "my_tuple = (4, 5, 6)\n",
    "a, b, c = my_tuple\n",
    "\n",
    "for letter, val in zip(['a', 'b', 'c'], [a, b, c]):\n",
    "    print(f'Value of {letter} is {val}.')"
   ]
  },
  {
   "cell_type": "code",
   "execution_count": 10,
   "id": "b4cb8622",
   "metadata": {},
   "outputs": [
    {
     "name": "stdout",
     "output_type": "stream",
     "text": [
      "a = 1, b = 2, c = 3\n",
      "a = 4, b = 5, c = 6\n",
      "a = 7, b = 8, c = 9\n"
     ]
    }
   ],
   "source": [
    "# We can use variable unpacking to iterate over sequences of tuples, just as we did with lists\n",
    "my_tuples = ((1, 2, 3), \n",
    "            (4, 5, 6),\n",
    "            (7, 8, 9))\n",
    "\n",
    "for a, b, c in my_tuples:\n",
    "    print(f'a = {a}, b = {b}, c = {c}')"
   ]
  },
  {
   "cell_type": "code",
   "execution_count": 11,
   "id": "0b23fec9",
   "metadata": {},
   "outputs": [
    {
     "name": "stdout",
     "output_type": "stream",
     "text": [
      "Value of a: 1\n",
      "\n",
      "Value of b: 2\n",
      "\n",
      "All remaining values: [3, 4, 5]\n"
     ]
    }
   ],
   "source": [
    "# We can also use the * syntax used to capture any number of arguments \n",
    "values = (1, 2, 3, 4, 5)\n",
    "a, b, *remaining = values\n",
    "print(f'Value of a: {a}\\n')\n",
    "print(f'Value of b: {b}\\n')\n",
    "print(f'All remaining values: {remaining}')"
   ]
  },
  {
   "cell_type": "markdown",
   "id": "1c933c4b",
   "metadata": {},
   "source": [
    "### Lists"
   ]
  },
  {
   "cell_type": "code",
   "execution_count": 12,
   "id": "a99c8412",
   "metadata": {},
   "outputs": [
    {
     "data": {
      "text/plain": [
       "[0, 1, 2, 3, 4, 5, 6, 7, 8, 9, 10]"
      ]
     },
     "execution_count": 12,
     "metadata": {},
     "output_type": "execute_result"
    }
   ],
   "source": [
    "# Lists are mutable and can be used to materialize values from a generator\n",
    "generator = range(11)\n",
    "list(generator)"
   ]
  },
  {
   "cell_type": "code",
   "execution_count": 2,
   "id": "de3ba35c",
   "metadata": {},
   "outputs": [
    {
     "name": "stdout",
     "output_type": "stream",
     "text": [
      "Sorted b, no keys:\n",
      "['He', 'foxes', 'saw', 'six', 'small']\n"
     ]
    }
   ],
   "source": [
    "# Sorting with the sort() method is done in place\n",
    "# You can use other keys-- like the length of the elements\n",
    "b = ['saw', 'small', 'He', 'foxes', 'six']\n",
    "b.sort()\n",
    "print(f'Sorted b, no keys:\\n{b}')"
   ]
  },
  {
   "cell_type": "code",
   "execution_count": 3,
   "id": "26d9f346",
   "metadata": {},
   "outputs": [
    {
     "name": "stdout",
     "output_type": "stream",
     "text": [
      "Sorted b, key = len:\n",
      "['He', 'saw', 'six', 'foxes', 'small']\n"
     ]
    }
   ],
   "source": [
    "# Sort by length\n",
    "b.sort(key=len)\n",
    "print(f'Sorted b, key = len:\\n{b}')"
   ]
  },
  {
   "cell_type": "code",
   "execution_count": 8,
   "id": "3e1daab7",
   "metadata": {},
   "outputs": [
    {
     "name": "stdout",
     "output_type": "stream",
     "text": [
      "Sorted b, key = len, in reverse order:\n",
      "['small', 'foxes', 'six', 'saw', 'He']\n"
     ]
    }
   ],
   "source": [
    "# Sort by length-- reversed\n",
    "b.sort(key=len)\n",
    "b.reverse()\n",
    "print(f'Sorted b, key = len, in reverse order:\\n{b}')"
   ]
  },
  {
   "cell_type": "code",
   "execution_count": 15,
   "id": "820e13d8",
   "metadata": {},
   "outputs": [
    {
     "name": "stdout",
     "output_type": "stream",
     "text": [
      "Reversed list of numbers:\n",
      "[10, 9, 8, 7, 6, 5, 4, 3, 2, 1, 0]\n",
      "\n",
      "Original list of numbers:\n",
      "[0, 1, 2, 3, 4, 5, 6, 7, 8, 9, 10]\n"
     ]
    }
   ],
   "source": [
    "# Slicing-- using negative integers to reverse the list\n",
    "my_list = list(range(11))\n",
    "my_list.reverse()\n",
    "rev_list = list(my_list)\n",
    "\n",
    "print(f'Reversed list of numbers:\\n{rev_list}\\n')\n",
    "print(f'Original list of numbers:\\n{rev_list[::-1]}')"
   ]
  },
  {
   "cell_type": "markdown",
   "id": "b714ad80",
   "metadata": {},
   "source": [
    "### Built-in sequence functions"
   ]
  },
  {
   "cell_type": "code",
   "execution_count": 16,
   "id": "b27e252e",
   "metadata": {},
   "outputs": [
    {
     "name": "stdout",
     "output_type": "stream",
     "text": [
      "Index: 0, element: foo\n",
      "Index: 1, element: bar\n",
      "Index: 2, element: baz\n"
     ]
    }
   ],
   "source": [
    "# One useful function is enumerate(), which creates a sequence of an interable and the associated indexes\n",
    "some_list = ['foo', 'bar', 'baz']\n",
    "for index, element in enumerate(some_list):\n",
    "    print(f'Index: {index}, element: {element}')"
   ]
  },
  {
   "cell_type": "code",
   "execution_count": 17,
   "id": "03d1b7a9",
   "metadata": {},
   "outputs": [
    {
     "name": "stdout",
     "output_type": "stream",
     "text": [
      "{0: 'foo', 1: 'bar', 2: 'baz'}\n"
     ]
    }
   ],
   "source": [
    "# This strategy can also be easily used to create dictionaries\n",
    "some_dict = {}\n",
    "for index, element in enumerate(some_list):\n",
    "    some_dict[index] = element\n",
    "\n",
    "print(some_dict)"
   ]
  },
  {
   "cell_type": "code",
   "execution_count": 26,
   "id": "71961ee7",
   "metadata": {},
   "outputs": [
    {
     "name": "stdout",
     "output_type": "stream",
     "text": [
      "Using zip with enumerate:\n",
      "0: foo, one\n",
      "1: bar, two\n",
      "2: baz, three\n",
      "\n",
      "Using zip without enumerate:\n",
      "foo, one\n",
      "bar, two\n",
      "baz, three\n"
     ]
    }
   ],
   "source": [
    "# The zip method() is a way of iterating over two sequences simultaneously\n",
    "seq1 = ['foo', 'bar', 'baz']\n",
    "seq2 = ['one', 'two', 'three']\n",
    "\n",
    "print(f'Using zip with enumerate:')\n",
    "for i, (a, b) in enumerate(zip(seq1, seq2)):\n",
    "    print(f'{i}: {a}, {b}')\n",
    "    \n",
    "# Now use without enumerate\n",
    "print(f'\\nUsing zip without enumerate:')\n",
    "for (a, b) in zip(seq1, seq2):\n",
    "    print(f'{a}, {b}')\n",
    "    \n"
   ]
  },
  {
   "cell_type": "code",
   "execution_count": 29,
   "id": "29a9804a",
   "metadata": {},
   "outputs": [
    {
     "data": {
      "text/plain": [
       "<list_reverseiterator at 0x7fdfd14ff430>"
      ]
     },
     "execution_count": 29,
     "metadata": {},
     "output_type": "execute_result"
    }
   ],
   "source": [
    "# reversed() is another helpful built-in, but like range(), it's a generator\n",
    "# Thus, we need to materialize the contents with list() or another function\n",
    "reversed(seq1)"
   ]
  },
  {
   "cell_type": "code",
   "execution_count": 30,
   "id": "160a957f",
   "metadata": {},
   "outputs": [
    {
     "data": {
      "text/plain": [
       "['baz', 'bar', 'foo']"
      ]
     },
     "execution_count": 30,
     "metadata": {},
     "output_type": "execute_result"
    }
   ],
   "source": [
    "list(reversed(seq1))"
   ]
  },
  {
   "cell_type": "markdown",
   "id": "bd4a55c9",
   "metadata": {},
   "source": [
    "### Dictionaries"
   ]
  },
  {
   "cell_type": "code",
   "execution_count": 31,
   "id": "9426058c",
   "metadata": {},
   "outputs": [
    {
     "name": "stdout",
     "output_type": "stream",
     "text": [
      "Key: a, value: some value\n",
      "Key: b, value: [1, 2, 3, 4]\n"
     ]
    }
   ],
   "source": [
    "# These are called different things-- hash maps, associative arrays\n",
    "d1 = {'a': 'some value',\n",
    "     'b': [1, 2, 3, 4]}\n",
    "\n",
    "# Get keys and values\n",
    "for key, val in d1.items():\n",
    "    print(f'Key: {key}, value: {val}')"
   ]
  },
  {
   "cell_type": "code",
   "execution_count": 33,
   "id": "cd9d48ff",
   "metadata": {},
   "outputs": [
    {
     "name": "stdout",
     "output_type": "stream",
     "text": [
      "{'a': 'some value', 'b': 'foo', 'c': 12}\n"
     ]
    }
   ],
   "source": [
    "# Merge dictionaries using update()-- note, this modifies in place\n",
    "d1.update({'b': 'foo', \n",
    "          'c': 12})\n",
    "\n",
    "print(d1)"
   ]
  },
  {
   "cell_type": "code",
   "execution_count": 4,
   "id": "42640814",
   "metadata": {},
   "outputs": [
    {
     "name": "stdout",
     "output_type": "stream",
     "text": [
      "Fruit: banana\n",
      "Vegetable: cucumber\n",
      "Poultry: chicken\n",
      "Dairy: milk\n",
      "Drink: wine\n"
     ]
    }
   ],
   "source": [
    "# If we want to build a dictionary from two sequences, we have two options\n",
    "# First, we could use the loop approach presented earlier\n",
    "# Or, we could just use the dict() function\n",
    "key_list = ['fruit', 'vegetable', 'poultry', 'dairy', 'drink']\n",
    "value_list = ['banana', 'cucumber', 'chicken', 'milk', 'wine']\n",
    "\n",
    "food_dict = {}\n",
    "for key, val in zip(key_list, value_list):\n",
    "    food_dict[key] = val\n",
    "    \n",
    "for key, val in food_dict.items():\n",
    "    print(f'{key.title()}: {val}')\n"
   ]
  },
  {
   "cell_type": "code",
   "execution_count": 6,
   "id": "d8365f05",
   "metadata": {},
   "outputs": [
    {
     "name": "stdout",
     "output_type": "stream",
     "text": [
      "Fruit: banana\n",
      "Vegetable: cucumber\n",
      "Poultry: chicken\n",
      "Dairy: milk\n",
      "Drink: wine\n"
     ]
    }
   ],
   "source": [
    "# Use the dict() approach\n",
    "food_dict2 = dict(zip(key_list, value_list))\n",
    "for key, val in food_dict2.items():\n",
    "    print(f'{key.title()}: {val}')"
   ]
  },
  {
   "cell_type": "code",
   "execution_count": 2,
   "id": "2f190df5",
   "metadata": {},
   "outputs": [
    {
     "name": "stdout",
     "output_type": "stream",
     "text": [
      "a: ['apple', 'atom']\n",
      "b: ['bat', 'bar', 'book']\n",
      "c: ['cat', 'cook']\n"
     ]
    }
   ],
   "source": [
    "# Create a dictionary with letters as keys and lists as values\n",
    "words = ['apple', 'bat', 'bar', 'atom', 'book', 'cat', 'cook']\n",
    "by_letter = {}\n",
    "\n",
    "for word in words:\n",
    "    letter = word[0]\n",
    "    if letter not in by_letter.keys():\n",
    "        by_letter[letter] = [word] # making a list\n",
    "    else:\n",
    "        by_letter[letter].append(word)\n",
    "        \n",
    "for key, val in by_letter.items():\n",
    "    print(f'{key}: {val}')"
   ]
  },
  {
   "cell_type": "code",
   "execution_count": 4,
   "id": "5e5d5993",
   "metadata": {},
   "outputs": [
    {
     "name": "stdout",
     "output_type": "stream",
     "text": [
      "Key: hash\n",
      "a: 2982953944752013288\n",
      "b: 3877403595932308983\n",
      "c: 4665640972348144721\n"
     ]
    }
   ],
   "source": [
    "# The rule of thumb with dictionary keys-- they need to be hashable\n",
    "# Hence, why dictionaries are also called hash tables\n",
    "# Use the hash() function to check if an object is hashable\n",
    "# Hashable objects are immutable\n",
    "# Hashes are fixed-size integers that Python uses for looking up dictionary keys\n",
    "\n",
    "print('Key: hash')\n",
    "for key in by_letter.keys():\n",
    "    print(f'{key}: {hash(key)}')"
   ]
  },
  {
   "cell_type": "code",
   "execution_count": 6,
   "id": "93d3b2a6",
   "metadata": {},
   "outputs": [
    {
     "name": "stdout",
     "output_type": "stream",
     "text": [
      "Sorry, [1, 2] is not hashable!\n",
      "Sorry, [3, 4] is not hashable!\n",
      "Sorry, [5, 6] is not hashable!\n"
     ]
    }
   ],
   "source": [
    "list_of_lists = [[1, 2], [3, 4], [5, 6]]\n",
    "for my_list in list_of_lists:\n",
    "    try:\n",
    "        print(f'{my_list}: {hash(my_list)}')\n",
    "    except TypeError:\n",
    "        print(f'Sorry, {my_list} is not hashable!')"
   ]
  },
  {
   "cell_type": "code",
   "execution_count": 7,
   "id": "b1ec8cca",
   "metadata": {},
   "outputs": [
    {
     "name": "stdout",
     "output_type": "stream",
     "text": [
      "(1, 2): -3550055125485641917\n",
      "(3, 4): 1079245023883434373\n",
      "(5, 6): -7007623702649218251\n"
     ]
    }
   ],
   "source": [
    "# Alternatively, convert list to tuple\n",
    "list_of_tuples = [(1, 2), (3, 4), (5, 6)]\n",
    "for my_tuple in list_of_tuples:\n",
    "    try:\n",
    "        print(f'{my_tuple}: {hash(my_tuple)}')\n",
    "    except TypeError:\n",
    "        print(f'Sorry, {my_tuple} is not hashable!')"
   ]
  },
  {
   "cell_type": "markdown",
   "id": "e90b3847",
   "metadata": {},
   "source": [
    "### Set\n"
   ]
  },
  {
   "cell_type": "code",
   "execution_count": 9,
   "id": "080220ba",
   "metadata": {},
   "outputs": [
    {
     "name": "stdout",
     "output_type": "stream",
     "text": [
      "Are both sets identical?\n",
      "True\n"
     ]
    }
   ],
   "source": [
    "# Sets are composed of only unique values\n",
    "# Create them either with the set() function, or with {}\n",
    "my_set = set([2, 2, 2, 2, 1, 3, 4])\n",
    "my_other_set = {2, 2, 2, 2, 1, 3, 4}\n",
    "\n",
    "print(f'Are both sets identical?\\n{my_set == my_other_set}')"
   ]
  },
  {
   "cell_type": "code",
   "execution_count": 15,
   "id": "346d310b",
   "metadata": {},
   "outputs": [
    {
     "name": "stdout",
     "output_type": "stream",
     "text": [
      "Union between sets:\n",
      "{1, 2, 3, 4, 5, 6, 7, 8}\n",
      "\n",
      "Intersection bewteen sets:\n",
      "{3, 4, 5}\n",
      "\n",
      "Difference between sets A and B:\n",
      "{1, 2}\n",
      "\n",
      "Symmetric difference A and B:\n",
      "{1, 2, 6, 7, 8}\n",
      "\n",
      "Is A a subset of B?\n",
      "False\n",
      "\n",
      "Do A and B have no elements in common?\n",
      "False\n"
     ]
    }
   ],
   "source": [
    "# Set operations\n",
    "set1 = set([1, 2, 3, 4, 5,])\n",
    "set2 = set([3, 4, 5, 6, 7, 8])\n",
    "\n",
    "# Union-- all distinct elements in both sets\n",
    "print(f'Union between sets:\\n{set1.union(set2)}\\n')\n",
    "\n",
    "# Intersection-- overlap between both sets\n",
    "print(f'Intersection bewteen sets:\\n{set1.intersection(set2)}\\n')\n",
    "\n",
    "# Difference-- elements in A that are not in B\n",
    "print(f'Difference between sets A and B:\\n{set1.difference(set2)}\\n')\n",
    "\n",
    "# Symmetric differnce-- all elements in A or B but not in both\n",
    "print(f'Symmetric difference A and B:\\n{set1.symmetric_difference(set2)}\\n')\n",
    "\n",
    "# Is subset-- all elements of A contained in B\n",
    "print(f'Is A a subset of B?\\n{set1.issubset(set2)}\\n')\n",
    "\n",
    "# Is disjoint-- A and B have no elements in common\n",
    "print(f'Do A and B have no elements in common?\\n{set1.isdisjoint(set2)}')"
   ]
  },
  {
   "cell_type": "markdown",
   "id": "0c6e0fd7",
   "metadata": {},
   "source": [
    "### List, set, and dict comprehensions"
   ]
  },
  {
   "cell_type": "code",
   "execution_count": 17,
   "id": "72b030e8",
   "metadata": {},
   "outputs": [
    {
     "data": {
      "text/plain": [
       "['BAT', 'CAR', 'DOVE', 'PYTHON']"
      ]
     },
     "execution_count": 17,
     "metadata": {},
     "output_type": "execute_result"
    }
   ],
   "source": [
    "# List comprehensions condense for for-loop and if-else blocks into one-line manipulations\n",
    "strings = ['a', 'as', 'bat', 'car', 'dove', 'python']\n",
    "[string.upper() for string in strings if len(string) > 2]"
   ]
  },
  {
   "cell_type": "code",
   "execution_count": 18,
   "id": "197c1263",
   "metadata": {},
   "outputs": [
    {
     "data": {
      "text/plain": [
       "{'CHEESE', 'LETTUCE', 'TOMATO'}"
      ]
     },
     "execution_count": 18,
     "metadata": {},
     "output_type": "execute_result"
    }
   ],
   "source": [
    "# Set comprehensions are very similar, just with {} instead of []\n",
    "strings = ['cheese', 'cheese', 'cheese', 'lettuce', 'tomato']\n",
    "{string.upper() for string in strings}"
   ]
  },
  {
   "cell_type": "code",
   "execution_count": 23,
   "id": "bbc76148",
   "metadata": {},
   "outputs": [
    {
     "name": "stdout",
     "output_type": "stream",
     "text": [
      "{'cheese': 3, 'lettuce': 1, 'tomato': 1}\n"
     ]
    }
   ],
   "source": [
    "# Dictionary-- revisit for dictionary comprehensions\n",
    "string_dict = {}\n",
    "for string in strings:\n",
    "    string_dict[string] = strings.count(string)\n",
    "\n",
    "print(string_dict)"
   ]
  },
  {
   "cell_type": "code",
   "execution_count": 27,
   "id": "06cc3bac",
   "metadata": {},
   "outputs": [
    {
     "name": "stdout",
     "output_type": "stream",
     "text": [
      "{'cheese': 2, 'lettuce': 3, 'tomato': 4}\n"
     ]
    }
   ],
   "source": [
    "# Create a dictionary comprehension-- lookup map based on index\n",
    "lookup_map = {val: idx for idx, val in enumerate(strings)}\n",
    "print(lookup_map)"
   ]
  },
  {
   "cell_type": "code",
   "execution_count": 29,
   "id": "f6c46853",
   "metadata": {},
   "outputs": [
    {
     "data": {
      "text/plain": [
       "[6, 6, 6, 7, 6]"
      ]
     },
     "execution_count": 29,
     "metadata": {},
     "output_type": "execute_result"
    }
   ],
   "source": [
    "# We can also use mapping functions, very similar to R\n",
    "# These will \"map\" functions to each element in a sequence\n",
    "# For example, we could find the length of each string in a list\n",
    "# However, to materialize the object, we need to create a set() or list()\n",
    "list(map(len, strings))"
   ]
  },
  {
   "cell_type": "code",
   "execution_count": 32,
   "id": "ad9dd2f7",
   "metadata": {},
   "outputs": [
    {
     "name": "stdout",
     "output_type": "stream",
     "text": [
      "['steven']\n"
     ]
    }
   ],
   "source": [
    "# If we wanted to process a nested list--\n",
    "all_data = [['john', 'emily', 'michael', 'mary', 'steven'], \n",
    "           ['maria', 'juan', 'javier', 'natalia', 'pilar']]\n",
    "\n",
    "names_of_interest = []\n",
    "for names in all_data:\n",
    "    for name in names:\n",
    "        if name.count('e') >= 2:\n",
    "            names_of_interest.append(name)\n",
    "            \n",
    "print(names_of_interest)"
   ]
  },
  {
   "cell_type": "code",
   "execution_count": 33,
   "id": "e28eacf8",
   "metadata": {},
   "outputs": [
    {
     "data": {
      "text/plain": [
       "True"
      ]
     },
     "execution_count": 33,
     "metadata": {},
     "output_type": "execute_result"
    }
   ],
   "source": [
    "# We can condense this with list comprehensions\n",
    "lots_of_es = [name for names in all_data for name in names if name.count('e') >= 2]\n",
    "lots_of_es == names_of_interest"
   ]
  },
  {
   "cell_type": "code",
   "execution_count": 35,
   "id": "b51a455e",
   "metadata": {},
   "outputs": [
    {
     "name": "stdout",
     "output_type": "stream",
     "text": [
      "[1, 2, 3, 4, 5, 6, 7, 8, 9]\n"
     ]
    }
   ],
   "source": [
    "# This style can also be used to flatten a list of nested tuples\n",
    "some_tuples = [(1, 2, 3), \n",
    "              (4, 5, 6), \n",
    "              (7, 8, 9)]\n",
    "\n",
    "flattened = [val for tup in some_tuples for val in tup]\n",
    "print(flattened)"
   ]
  },
  {
   "cell_type": "code",
   "execution_count": 36,
   "id": "12c5fdd0",
   "metadata": {},
   "outputs": [
    {
     "name": "stdout",
     "output_type": "stream",
     "text": [
      "Are the two flatted lists the same?\n",
      "True\n"
     ]
    }
   ],
   "source": [
    "# Again, these same results can be generated using nested for loops\n",
    "flattened2 = []\n",
    "for tup in some_tuples:\n",
    "    for val in tup:\n",
    "        flattened2.append(val)\n",
    "        \n",
    "print(f'Are the two flatted lists the same?\\n{flattened == flattened2}')"
   ]
  },
  {
   "cell_type": "markdown",
   "id": "b71e730f",
   "metadata": {},
   "source": [
    "## Functions\n"
   ]
  },
  {
   "cell_type": "code",
   "execution_count": 37,
   "id": "c68cd289",
   "metadata": {},
   "outputs": [],
   "source": [
    "# Keyword arguments (used for setting defaults, for example) MUST go after positional arguments\n",
    "# Define simple function\n",
    "def my_function(x, y, z=1.5):\n",
    "    if z > 1:\n",
    "        return z * (x + y)\n",
    "    else:\n",
    "        return z / (x + y)"
   ]
  },
  {
   "cell_type": "code",
   "execution_count": 38,
   "id": "00e3d2e2",
   "metadata": {},
   "outputs": [
    {
     "data": {
      "text/plain": [
       "30.0"
      ]
     },
     "execution_count": 38,
     "metadata": {},
     "output_type": "execute_result"
    }
   ],
   "source": [
    "# Test function\n",
    "my_function(10, 10)"
   ]
  },
  {
   "cell_type": "code",
   "execution_count": 39,
   "id": "7e9f928e",
   "metadata": {},
   "outputs": [
    {
     "data": {
      "text/plain": [
       "24.0"
      ]
     },
     "execution_count": 39,
     "metadata": {},
     "output_type": "execute_result"
    }
   ],
   "source": [
    "my_function(10, 10, z=1.2)"
   ]
  },
  {
   "cell_type": "markdown",
   "id": "9cece84b",
   "metadata": {},
   "source": [
    "### Namespaces, scope, and local functions"
   ]
  },
  {
   "cell_type": "code",
   "execution_count": 40,
   "id": "86292b12",
   "metadata": {},
   "outputs": [
    {
     "ename": "NameError",
     "evalue": "name 'a' is not defined",
     "output_type": "error",
     "traceback": [
      "\u001b[0;31m---------------------------------------------------------------------------\u001b[0m",
      "\u001b[0;31mNameError\u001b[0m                                 Traceback (most recent call last)",
      "Input \u001b[0;32mIn [40]\u001b[0m, in \u001b[0;36m<cell line: 12>\u001b[0;34m()\u001b[0m\n\u001b[1;32m      9\u001b[0m         a\u001b[38;5;241m.\u001b[39mappend(i)\n\u001b[1;32m     11\u001b[0m \u001b[38;5;66;03m# Try to call a\u001b[39;00m\n\u001b[0;32m---> 12\u001b[0m \u001b[43ma\u001b[49m\n",
      "\u001b[0;31mNameError\u001b[0m: name 'a' is not defined"
     ]
    }
   ],
   "source": [
    "# Namespaces refer to mappings between variables and data\n",
    "# In the context of functions, namespaces refer to the variables scope\n",
    "# Similar to R, a local namespace is created when the function is calle\n",
    "# However, the local namespace is destroyed after the function returns a value (or None)\n",
    "# Consider two examples\n",
    "def func():\n",
    "    a = []\n",
    "    for i in range(5):\n",
    "        a.append(i)\n",
    "        \n",
    "# Try to call a\n",
    "a"
   ]
  },
  {
   "cell_type": "code",
   "execution_count": 48,
   "id": "66f3fdd5",
   "metadata": {},
   "outputs": [
    {
     "name": "stdout",
     "output_type": "stream",
     "text": [
      "[0, 1, 2, 3, 4]\n"
     ]
    }
   ],
   "source": [
    "# The variable 'a' is defined in the local namespace\n",
    "# In other words, it's not accessible in the global namespace\n",
    "# The only way we can override this behavior is using the 'global' keyword\n",
    "a = None\n",
    "def bind_a_variable():\n",
    "    global a\n",
    "    a = []\n",
    "    for i in range(5):\n",
    "        a.append(i)\n",
    "\n",
    "# Call the function\n",
    "bind_a_variable()\n",
    "print(a)"
   ]
  },
  {
   "cell_type": "markdown",
   "id": "9beaefe8",
   "metadata": {},
   "source": [
    "### Returning multiple values\n"
   ]
  },
  {
   "cell_type": "code",
   "execution_count": 49,
   "id": "a4b39e19",
   "metadata": {},
   "outputs": [
    {
     "name": "stdout",
     "output_type": "stream",
     "text": [
      "(5, 6, 7)\n"
     ]
    }
   ],
   "source": [
    "# Interestingly, you can return multiple values from a function in Python\n",
    "# For example, if we wanted to populate a tuple\n",
    "def populate_tuple():\n",
    "    a = 5\n",
    "    b = 6\n",
    "    c = 7\n",
    "    return a, b, c\n",
    "\n",
    "my_tuple = populate_tuple()\n",
    "print(my_tuple)"
   ]
  },
  {
   "cell_type": "markdown",
   "id": "611e6efd",
   "metadata": {},
   "source": [
    "### Funtions are objects\n"
   ]
  },
  {
   "cell_type": "code",
   "execution_count": 52,
   "id": "85ea0cb3",
   "metadata": {},
   "outputs": [],
   "source": [
    "# Like everything else in Python, functions are objects\n",
    "# If we have a bunch of strings that we need to reformat, we can write a simple function\n",
    "# We'll be modular with our functions here and create two\n",
    "# The first will remove all puncutation\n",
    "# The second will do the rest of the cleaning--trimming whitespace, makeing everything title case, etc\n",
    "def remove_punctuation(value):\n",
    "    return re.sub('[!?#]', '', value)\n",
    "\n",
    "def clean_strings(strings):\n",
    "    result = []\n",
    "    for string in strings:\n",
    "        result.append(remove_punctuation(string.strip().title()))\n",
    "    return result\n"
   ]
  },
  {
   "cell_type": "code",
   "execution_count": 53,
   "id": "383af3bc",
   "metadata": {},
   "outputs": [
    {
     "data": {
      "text/plain": [
       "['Alabama',\n",
       " 'Georgia',\n",
       " 'Georgia',\n",
       " 'Georgia',\n",
       " 'South   Carolina',\n",
       " 'West Virginia']"
      ]
     },
     "execution_count": 53,
     "metadata": {},
     "output_type": "execute_result"
    }
   ],
   "source": [
    "# Test \n",
    "states = ['  Alabama', 'Georgia!', 'Georgia', 'georgia', \n",
    "         'south   carolina##', 'West virginia?']\n",
    "\n",
    "clean_strings(states)"
   ]
  },
  {
   "cell_type": "code",
   "execution_count": 60,
   "id": "3807a04b",
   "metadata": {},
   "outputs": [
    {
     "data": {
      "text/plain": [
       "['  Alabama',\n",
       " 'Georgia',\n",
       " 'Georgia',\n",
       " 'georgia',\n",
       " 'south   carolina',\n",
       " 'West virginia']"
      ]
     },
     "execution_count": 60,
     "metadata": {},
     "output_type": "execute_result"
    }
   ],
   "source": [
    "# Use the built-in map function to apply a function to a sequence\n",
    "[state for state in map(remove_punctuation, states)]"
   ]
  },
  {
   "cell_type": "markdown",
   "id": "e3056ea8",
   "metadata": {},
   "source": [
    "### Lambda functions\n"
   ]
  },
  {
   "cell_type": "code",
   "execution_count": 68,
   "id": "5c085bc1",
   "metadata": {},
   "outputs": [
    {
     "data": {
      "text/plain": [
       "20"
      ]
     },
     "execution_count": 68,
     "metadata": {},
     "output_type": "execute_result"
    }
   ],
   "source": [
    "# Lambda functions appear very similar to the apply family of functions in R\n",
    "# They consist of a single statement and the result is the return value\n",
    "double_x = lambda x: x * 2\n",
    "\n",
    "# Call the function\n",
    "double_x(10)\n",
    "\n",
    "# Note-- they are caled anonymous functions because they are never delcared with the 'def' keyword\n",
    "# As a consequence, they don't have a __name__ attribute"
   ]
  },
  {
   "cell_type": "code",
   "execution_count": 69,
   "id": "ab34470d",
   "metadata": {},
   "outputs": [
    {
     "data": {
      "text/plain": [
       "['aaaa', 'foo', 'abab', 'bar', 'card']"
      ]
     },
     "execution_count": 69,
     "metadata": {},
     "output_type": "execute_result"
    }
   ],
   "source": [
    "# Lambda functions can be useful for functions that take other functions as arguments\n",
    "# For example, if we wante dot sort a list of strings by a custom key, we could use a lambda function\n",
    "# Here, we're sorting by the number of distinct letters in each string\n",
    "strings = ['foo', 'card', 'bar', 'aaaa', 'abab']\n",
    "strings.sort(key=lambda x: len(set(list(x))))\n",
    "strings"
   ]
  },
  {
   "cell_type": "markdown",
   "id": "00229863",
   "metadata": {},
   "source": [
    "### Currying"
   ]
  },
  {
   "cell_type": "code",
   "execution_count": 70,
   "id": "1268c49c",
   "metadata": {},
   "outputs": [],
   "source": [
    "# Currying refers to deriving new functions from existing ones\n",
    "# I'll come back to this later-- for now, just know the functools module can help write these"
   ]
  },
  {
   "cell_type": "markdown",
   "id": "9630ae59",
   "metadata": {},
   "source": [
    "### Generators"
   ]
  },
  {
   "cell_type": "markdown",
   "id": "bd33fe6d",
   "metadata": {},
   "source": [
    "The main idea behind generator functions is to create objects that can be used in for loops, like lists, but that don't store their full contents in memory.  This could come in handy when processing large files that would otherwise cause the program to crash if they read the full contents in memory."
   ]
  },
  {
   "cell_type": "markdown",
   "id": "741ee416",
   "metadata": {},
   "source": [
    "### Errors and exception handling\n"
   ]
  },
  {
   "cell_type": "code",
   "execution_count": 71,
   "id": "e654f3c0",
   "metadata": {},
   "outputs": [],
   "source": [
    "# Handling exceptions is important so programs don't stop-- print a helpful error message instead\n",
    "def try_float(x):\n",
    "    try:\n",
    "        return float(x)\n",
    "    except ValueError:\n",
    "        print(f'Invalid: cannot cast {x} as a float.')"
   ]
  },
  {
   "cell_type": "code",
   "execution_count": 72,
   "id": "f2601e18",
   "metadata": {},
   "outputs": [
    {
     "data": {
      "text/plain": [
       "5.0"
      ]
     },
     "execution_count": 72,
     "metadata": {},
     "output_type": "execute_result"
    }
   ],
   "source": [
    "try_float(5)"
   ]
  },
  {
   "cell_type": "code",
   "execution_count": 73,
   "id": "d1ba9ce3",
   "metadata": {},
   "outputs": [
    {
     "name": "stdout",
     "output_type": "stream",
     "text": [
      "Invalid: cannot cast something else as a float.\n"
     ]
    }
   ],
   "source": [
    "try_float('something else')"
   ]
  },
  {
   "cell_type": "code",
   "execution_count": 89,
   "id": "4b746940",
   "metadata": {},
   "outputs": [],
   "source": [
    "# We can re-write to include multiple exceptions by writing them in a tuple\n",
    "def try_float(x):\n",
    "    try:\n",
    "        return float(x)\n",
    "    except (TypeError, ValueError):\n",
    "        print(f'Invalid: cannot cast object \"{x}\" of type {type(x)} as a float.')"
   ]
  },
  {
   "cell_type": "code",
   "execution_count": 90,
   "id": "be3c00a8",
   "metadata": {},
   "outputs": [
    {
     "data": {
      "text/plain": [
       "5.0"
      ]
     },
     "execution_count": 90,
     "metadata": {},
     "output_type": "execute_result"
    }
   ],
   "source": [
    "try_float(5)"
   ]
  },
  {
   "cell_type": "code",
   "execution_count": 91,
   "id": "a086ad2e",
   "metadata": {
    "scrolled": true
   },
   "outputs": [
    {
     "name": "stdout",
     "output_type": "stream",
     "text": [
      "Invalid: cannot cast object \"something else\" of type <class 'str'> as a float.\n"
     ]
    }
   ],
   "source": [
    "try_float('something else')"
   ]
  },
  {
   "cell_type": "code",
   "execution_count": 92,
   "id": "73d69aa1",
   "metadata": {
    "scrolled": true
   },
   "outputs": [
    {
     "name": "stdout",
     "output_type": "stream",
     "text": [
      "Invalid: cannot cast object \"('something', 'else')\" of type <class 'tuple'> as a float.\n"
     ]
    }
   ],
   "source": [
    "try_float(('something', 'else'))"
   ]
  },
  {
   "cell_type": "markdown",
   "id": "72e06596",
   "metadata": {},
   "source": [
    "## Files and the operating system"
   ]
  },
  {
   "cell_type": "markdown",
   "id": "4db9ad60",
   "metadata": {},
   "source": [
    "To work with files, we can open them explicitly in read mode (default) using the `open()` function-- just remember to close the file handle to return resources to the operating system.  If we use the `with open()` idiom, the file handle will automatically be closed after the idented lines.  When writing to files, we can also use the `x` model to abort if the file name already exists-- by default, with `w` mode, any files with the same name will be overwritten.  "
   ]
  },
  {
   "cell_type": "code",
   "execution_count": 113,
   "id": "4e140abd",
   "metadata": {},
   "outputs": [],
   "source": [
    "# Download example data from the GitHub repository\n",
    "url = 'https://raw.githubusercontent.com/wesm/pydata-book/2nd-edition/examples/segismundo.txt'\n",
    "file = requests.get(url)\n",
    "\n",
    "# Write sequence of strings to file\n",
    "with open('data/segismundo.txt', 'w') as handle:\n",
    "    handle.write(file.text)\n",
    "\n",
    "# Get a list of lines from the input file with readlines()\n",
    "with open('data/segismundo.txt', 'r') as handle:\n",
    "    lines = handle.readlines()"
   ]
  },
  {
   "cell_type": "code",
   "execution_count": 114,
   "id": "268efc2d",
   "metadata": {},
   "outputs": [
    {
     "name": "stdout",
     "output_type": "stream",
     "text": [
      "Is the file handle closed?\n",
      "True\n"
     ]
    }
   ],
   "source": [
    "# Check that the file handle is closed\n",
    "print(f'Is the file handle closed?\\n{handle.closed}')"
   ]
  },
  {
   "cell_type": "code",
   "execution_count": null,
   "id": "151aced1",
   "metadata": {},
   "outputs": [],
   "source": []
  }
 ],
 "metadata": {
  "kernelspec": {
   "display_name": "Python 3 (ipykernel)",
   "language": "python",
   "name": "python3"
  },
  "language_info": {
   "codemirror_mode": {
    "name": "ipython",
    "version": 3
   },
   "file_extension": ".py",
   "mimetype": "text/x-python",
   "name": "python",
   "nbconvert_exporter": "python",
   "pygments_lexer": "ipython3",
   "version": "3.9.7"
  }
 },
 "nbformat": 4,
 "nbformat_minor": 5
}
